{
 "cells": [
  {
   "cell_type": "markdown",
   "metadata": {},
   "source": [
    "# Encontrar las raices de una función"
   ]
  },
  {
   "cell_type": "markdown",
   "metadata": {},
   "source": [
    "Existen dos métodos: de bipartición y de Newton."
   ]
  },
  {
   "cell_type": "markdown",
   "metadata": {},
   "source": [
    "### Método de Bipartición"
   ]
  },
  {
   "cell_type": "markdown",
   "metadata": {},
   "source": [
    "Toma como ptos iniciales a dos valores de de $x_0,x_1$ tales que:\n",
    "$$\n",
    "f(x_0)>0 \\ \\ \\ \\ \\ \\ \\ f(x_1)<0\n",
    "$$\n",
    "\n",
    "Posteriormente se toma el punto medio entre $x_0,x_1$:\n",
    "$$\n",
    "x_2=\\frac{x_0+x_1}{2}\n",
    "$$\n",
    "\n",
    "Se evalua $x_2$ en la función y se analiza si:\n",
    "$$\n",
    "f(x_2)>0 \\ \\ \\ o \\ \\ \\ \\ f(x_2)<0\n",
    "$$\n",
    "\n",
    "Dependiendo del resultado, se elige como nuevo intervalo $[x_0,x_2]$ o $[x_2,x_1]$.\n",
    "\n",
    "El paso se repite hasta que:\n",
    "\n",
    "$$\n",
    "|x_i-x_j|<\\epsilon \\ \\ \\ y \\ \\ \\  |f(x_i)-f(x_j)|<\\epsilon\n",
    "$$\n",
    "\n",
    "donde episilon es un número que el usuario eligió dependiendo de lo que necesita.\n",
    "\n",
    "NOTA: éste algoritmo sólo sirve si la función cruza el eje, si son funciones pares como $x^2$, $x^4$, ... el algoritmo no funciona."
   ]
  },
  {
   "cell_type": "code",
   "execution_count": 1,
   "metadata": {
    "collapsed": true
   },
   "outputs": [],
   "source": [
    "from pylab import*\n",
    "%matplotlib inline"
   ]
  },
  {
   "cell_type": "code",
   "execution_count": 2,
   "metadata": {
    "collapsed": false
   },
   "outputs": [],
   "source": [
    "def biparticion(f,x_i,x_d,err=1e-5):\n",
    "    raiz=0.5*(x_i+x_d)\n",
    "    y_i,y_d=f(x_i),f(x_d)\n",
    "    while abs(raiz-x_d) >=err and abs(y_i-y_d)>=err:\n",
    "        y_m=f(raiz)\n",
    "        if y_m == 0.:\n",
    "            print \"ya tenemos la raiz!\"\n",
    "            break\n",
    "        if y_m*y_i < 0:\n",
    "            x_d=raiz\n",
    "        else:\n",
    "            x_i=raiz\n",
    "        raiz=0.5*(x_i+x_d)\n",
    "        y_i,y_d=f(x_i),f(x_d)\n",
    "    return raiz"
   ]
  },
  {
   "cell_type": "code",
   "execution_count": 16,
   "metadata": {
    "collapsed": false
   },
   "outputs": [
    {
     "data": {
      "image/png": "[encoded data removed]",
      "text/plain": [
       "<matplotlib.figure.Figure at 0x7f9e668aa8d0>"
      ]
     },
     "metadata": {},
     "output_type": "display_data"
    }
   ],
   "source": [
    "x=linspace(0,8)\n",
    "plot(x,sin(x))\n",
    "show()"
   ]
  },
  {
   "cell_type": "code",
   "execution_count": 4,
   "metadata": {
    "collapsed": false
   },
   "outputs": [
    {
     "name": "stdout",
     "output_type": "stream",
     "text": [
      "La raiz es:  6.28318023682\n",
      "Notemos que el valor de 2pi es:  6.28318530718\n",
      "Así que el error es:  5.07036317998e-06\n"
     ]
    }
   ],
   "source": [
    "print \"La raiz es: \", biparticion(sin,5,7)\n",
    "print \"Notemos que el valor de 2pi es: \",2*pi\n",
    "print \"Así que el error es: \", 2*pi-biparticion(sin,5,7)"
   ]
  },
  {
   "cell_type": "code",
   "execution_count": 5,
   "metadata": {
    "collapsed": false
   },
   "outputs": [
    {
     "data": {
      "image/png": "[encoded data removed]",
      "text/plain": [
       "<matplotlib.figure.Figure at 0x7f9e66f6b3d0>"
      ]
     },
     "metadata": {},
     "output_type": "display_data"
    }
   ],
   "source": [
    "x=linspace(0.001,8)\n",
    "plot(x,log(x))\n",
    "show()"
   ]
  },
  {
   "cell_type": "code",
   "execution_count": 6,
   "metadata": {
    "collapsed": false
   },
   "outputs": [
    {
     "data": {
      "text/plain": [
       "0.9999977293014525"
      ]
     },
     "execution_count": 6,
     "metadata": {},
     "output_type": "execute_result"
    }
   ],
   "source": [
    "biparticion(log,0.001,8)"
   ]
  },
  {
   "cell_type": "code",
   "execution_count": 7,
   "metadata": {
    "collapsed": false
   },
   "outputs": [
    {
     "data": {
      "image/png": "[encoded data removed]",
      "text/plain": [
       "<matplotlib.figure.Figure at 0x7f9e66968150>"
      ]
     },
     "metadata": {},
     "output_type": "display_data"
    }
   ],
   "source": [
    "x=linspace(-100,0)\n",
    "plot(x,exp(x))\n",
    "show()"
   ]
  },
  {
   "cell_type": "code",
   "execution_count": 8,
   "metadata": {
    "collapsed": false
   },
   "outputs": [
    {
     "ename": "TypeError",
     "evalue": "'numpy.ndarray' object is not callable",
     "output_type": "error",
     "traceback": [
      "\u001b[1;31m---------------------------------------------------------------------------\u001b[0m",
      "\u001b[1;31mTypeError\u001b[0m                                 Traceback (most recent call last)",
      "\u001b[1;32m<ipython-input-8-db29b31e604b>\u001b[0m in \u001b[0;36m<module>\u001b[1;34m()\u001b[0m\n\u001b[1;32m----> 1\u001b[1;33m \u001b[0mbiparticion\u001b[0m\u001b[1;33m(\u001b[0m\u001b[0mexp\u001b[0m\u001b[1;33m(\u001b[0m\u001b[0mx\u001b[0m\u001b[1;33m)\u001b[0m\u001b[1;33m,\u001b[0m\u001b[1;33m-\u001b[0m\u001b[1;36m10\u001b[0m\u001b[1;33m,\u001b[0m\u001b[1;36m0\u001b[0m\u001b[1;33m)\u001b[0m\u001b[1;33m\u001b[0m\u001b[0m\n\u001b[0m\u001b[0;32m      2\u001b[0m \u001b[1;31m#como no hay x tal que exp(x)<0, el programa no puede dar un resultado :(\u001b[0m\u001b[1;33m\u001b[0m\u001b[1;33m\u001b[0m\u001b[0m\n",
      "\u001b[1;32m<ipython-input-2-1d9a7390d9fd>\u001b[0m in \u001b[0;36mbiparticion\u001b[1;34m(f, x_i, x_d, err)\u001b[0m\n\u001b[0;32m      1\u001b[0m \u001b[1;32mdef\u001b[0m \u001b[0mbiparticion\u001b[0m\u001b[1;33m(\u001b[0m\u001b[0mf\u001b[0m\u001b[1;33m,\u001b[0m\u001b[0mx_i\u001b[0m\u001b[1;33m,\u001b[0m\u001b[0mx_d\u001b[0m\u001b[1;33m,\u001b[0m\u001b[0merr\u001b[0m\u001b[1;33m=\u001b[0m\u001b[1;36m1e-5\u001b[0m\u001b[1;33m)\u001b[0m\u001b[1;33m:\u001b[0m\u001b[1;33m\u001b[0m\u001b[0m\n\u001b[0;32m      2\u001b[0m     \u001b[0mraiz\u001b[0m\u001b[1;33m=\u001b[0m\u001b[1;36m0.5\u001b[0m\u001b[1;33m*\u001b[0m\u001b[1;33m(\u001b[0m\u001b[0mx_i\u001b[0m\u001b[1;33m+\u001b[0m\u001b[0mx_d\u001b[0m\u001b[1;33m)\u001b[0m\u001b[1;33m\u001b[0m\u001b[0m\n\u001b[1;32m----> 3\u001b[1;33m     \u001b[0my_i\u001b[0m\u001b[1;33m,\u001b[0m\u001b[0my_d\u001b[0m\u001b[1;33m=\u001b[0m\u001b[0mf\u001b[0m\u001b[1;33m(\u001b[0m\u001b[0mx_i\u001b[0m\u001b[1;33m)\u001b[0m\u001b[1;33m,\u001b[0m\u001b[0mf\u001b[0m\u001b[1;33m(\u001b[0m\u001b[0mx_d\u001b[0m\u001b[1;33m)\u001b[0m\u001b[1;33m\u001b[0m\u001b[0m\n\u001b[0m\u001b[0;32m      4\u001b[0m     \u001b[1;32mwhile\u001b[0m \u001b[0mabs\u001b[0m\u001b[1;33m(\u001b[0m\u001b[0mraiz\u001b[0m\u001b[1;33m-\u001b[0m\u001b[0mx_d\u001b[0m\u001b[1;33m)\u001b[0m \u001b[1;33m>=\u001b[0m\u001b[0merr\u001b[0m \u001b[1;32mand\u001b[0m \u001b[0mabs\u001b[0m\u001b[1;33m(\u001b[0m\u001b[0my_i\u001b[0m\u001b[1;33m-\u001b[0m\u001b[0my_d\u001b[0m\u001b[1;33m)\u001b[0m\u001b[1;33m>=\u001b[0m\u001b[0merr\u001b[0m\u001b[1;33m:\u001b[0m\u001b[1;33m\u001b[0m\u001b[0m\n\u001b[0;32m      5\u001b[0m         \u001b[0my_m\u001b[0m\u001b[1;33m=\u001b[0m\u001b[0mf\u001b[0m\u001b[1;33m(\u001b[0m\u001b[0mraiz\u001b[0m\u001b[1;33m)\u001b[0m\u001b[1;33m\u001b[0m\u001b[0m\n",
      "\u001b[1;31mTypeError\u001b[0m: 'numpy.ndarray' object is not callable"
     ]
    }
   ],
   "source": [
    "biparticion(exp(x),-10,0)\n",
    "#como no hay x tal que exp(x)<0, el programa no puede dar un resultado :("
   ]
  },
  {
   "cell_type": "markdown",
   "metadata": {},
   "source": [
    "### Método de Newton"
   ]
  },
  {
   "cell_type": "code",
   "execution_count": 13,
   "metadata": {
    "collapsed": false
   },
   "outputs": [],
   "source": [
    "def mi_newton_1(func,d_func,x_ini,err=1e-8):\n",
    "    n=0\n",
    "    while abs(func(x_ini)) >= err:\n",
    "        print n,\"\\t\",x_ini\n",
    "        raiz = x_ini - func(x_ini)/d_func(x_ini)\n",
    "        x_ini = raiz\n",
    "        n += 1\n",
    "    return raiz"
   ]
  },
  {
   "cell_type": "code",
   "execution_count": 14,
   "metadata": {
    "collapsed": true
   },
   "outputs": [],
   "source": [
    "def una_funcion(x):\n",
    "    return (x-1)**5\n",
    "\n",
    "def d_una_funcion(x):\n",
    "    return 5*(x-1)**4"
   ]
  },
  {
   "cell_type": "code",
   "execution_count": 15,
   "metadata": {
    "collapsed": false
   },
   "outputs": [
    {
     "name": "stdout",
     "output_type": "stream",
     "text": [
      "0 \t-20\n",
      "1 \t-15\n",
      "2 \t-11\n",
      "3 \t-8\n",
      "4 \t-6\n",
      "5 \t-4\n",
      "6 \t-3\n",
      "7 \t-2\n",
      "8 \t-1\n",
      "9 \t0\n",
      "1\n"
     ]
    }
   ],
   "source": [
    "print mi_newton_1(una_funcion,d_una_funcion,-20)"
   ]
  },
  {
   "cell_type": "code",
   "execution_count": 17,
   "metadata": {
    "collapsed": false
   },
   "outputs": [
    {
     "name": "stdout",
     "output_type": "stream",
     "text": [
      "0 \t2\n",
      "1 \t4.18503986326\n",
      "2 \t2.46789367451\n",
      "3 \t3.26618627757\n",
      "4 \t3.14094391232\n",
      "3.14159265368\n"
     ]
    }
   ],
   "source": [
    "print mi_newton_1(sin,cos,2)"
   ]
  },
  {
   "cell_type": "code",
   "execution_count": 26,
   "metadata": {
    "collapsed": true
   },
   "outputs": [],
   "source": [
    "def fea(x):\n",
    "    return x**2 + tan(sqrt(-8*x + pi))**3\n",
    "\n",
    "def d_fea(x):\n",
    "    return 2*x - 12*(tan(sqrt(-8*x + pi))**2 + 1)*tan(sqrt(-8*x + pi))**2/sqrt(-8*x + pi)"
   ]
  },
  {
   "cell_type": "code",
   "execution_count": 35,
   "metadata": {
    "collapsed": false
   },
   "outputs": [
    {
     "data": {
      "image/png": "[encoded data removed]",
      "text/plain": [
       "<matplotlib.figure.Figure at 0x7f9e667b0410>"
      ]
     },
     "metadata": {},
     "output_type": "display_data"
    }
   ],
   "source": [
    "x=linspace(-5,0,100)\n",
    "ylim([-30,30])\n",
    "plot(x,fea(x),'-')\n",
    "plot([-2.94267812758],[0],'o')\n",
    "plot([-0.456490400596],[0],'o')\n",
    "grid(True)\n",
    "show()"
   ]
  },
  {
   "cell_type": "code",
   "execution_count": 29,
   "metadata": {
    "collapsed": false
   },
   "outputs": [
    {
     "name": "stdout",
     "output_type": "stream",
     "text": [
      "0 \t-5\n",
      "1 \t-2.53939653437\n",
      "2 \t-2.59080110125\n",
      "3 \t-2.65726929297\n",
      "4 \t-2.73924312728\n",
      "5 \t-2.82926057257\n",
      "6 \t-2.90416495415\n",
      "7 \t-2.93797628773\n",
      "8 \t-2.94260667481\n",
      "9 \t-2.94267811104\n",
      "-2.94267812758\n"
     ]
    }
   ],
   "source": [
    "print mi_newton_1(fea,d_fea,-5)"
   ]
  },
  {
   "cell_type": "code",
   "execution_count": 39,
   "metadata": {
    "collapsed": false
   },
   "outputs": [
    {
     "name": "stdout",
     "output_type": "stream",
     "text": [
      "-2.94268188477\n"
     ]
    }
   ],
   "source": [
    "print biparticion(fea,-3,-2.8)"
   ]
  },
  {
   "cell_type": "code",
   "execution_count": 34,
   "metadata": {
    "collapsed": false
   },
   "outputs": [
    {
     "name": "stdout",
     "output_type": "stream",
     "text": [
      "0 \t-1\n",
      "1 \t-0.530746877804\n",
      "2 \t-0.442008460789\n",
      "3 \t-0.455854364862\n",
      "4 \t-0.456489188197\n",
      "-0.456490400596\n"
     ]
    }
   ],
   "source": [
    "print mi_newton_1(fea,d_fea,-1)"
   ]
  },
  {
   "cell_type": "code",
   "execution_count": 42,
   "metadata": {
    "collapsed": false
   },
   "outputs": [
    {
     "name": "stdout",
     "output_type": "stream",
     "text": [
      "0 \t1.56079632679\n",
      "1 \t-98.4358703176\n",
      "2 \t-96.706614104\n",
      "3 \t-97.5198474962\n",
      "4 \t-97.3886267904\n",
      "-97.3893722614\n",
      "0 \t1.58079632679\n",
      "1 \t101.577462971\n",
      "2 \t99.8482067576\n",
      "3 \t100.66144015\n",
      "4 \t100.530219444\n",
      "100.530964915\n"
     ]
    }
   ],
   "source": [
    "print mi_newton_1(sin,cos,pi/2-0.01)\n",
    "print mi_newton_1(sin,cos,pi/2+0.01)"
   ]
  },
  {
   "cell_type": "code",
   "execution_count": 43,
   "metadata": {
    "collapsed": true
   },
   "outputs": [],
   "source": [
    "def num_dev(f,x,h=1e-4):\n",
    "    return (f(x+h)-f(x-h))/(2.*h)"
   ]
  },
  {
   "cell_type": "code",
   "execution_count": 46,
   "metadata": {
    "collapsed": true
   },
   "outputs": [],
   "source": [
    "def mi_newton_2(func,x_ini,err=1e-8):\n",
    "    n=0\n",
    "    while abs(func(x_ini)) >= err:\n",
    "        print n,\"\\t\",x_ini\n",
    "        raiz = x_ini - func(x_ini)/num_dev(func,x_ini)\n",
    "        x_ini = raiz\n",
    "        n += 1\n",
    "    return raiz"
   ]
  },
  {
   "cell_type": "code",
   "execution_count": 47,
   "metadata": {
    "collapsed": false
   },
   "outputs": [
    {
     "name": "stdout",
     "output_type": "stream",
     "text": [
      "0 \t1.67079632679\n",
      "1 \t11.6374407667\n",
      "2 \t12.9753246623\n",
      "3 \t12.5419364293\n",
      "4 \t12.5663754782\n",
      "12.5663706144\n",
      "12.5663706144\n"
     ]
    }
   ],
   "source": [
    "print mi_newton_2(sin,pi/2+0.1)\n",
    "print 4*pi"
   ]
  },
  {
   "cell_type": "code",
   "execution_count": 49,
   "metadata": {
    "collapsed": false
   },
   "outputs": [],
   "source": [
    "def num_dev_mejorado(f,x,h=1e-4):\n",
    "    return (-f(x+2*h)+8*f(x+h)-8*f(x-h)+f(x-2*h))/(12.*h)"
   ]
  },
  {
   "cell_type": "code",
   "execution_count": 52,
   "metadata": {
    "collapsed": false
   },
   "outputs": [
    {
     "name": "stdout",
     "output_type": "stream",
     "text": [
      "-0.707106781187\n",
      "-0.70710678001\n",
      "-0.707106781189\n"
     ]
    }
   ],
   "source": [
    "t=5*pi/4\n",
    "print cos(t)\n",
    "print num_dev(sin,t)\n",
    "print num_dev_mejorado(sin, t)"
   ]
  },
  {
   "cell_type": "code",
   "execution_count": null,
   "metadata": {
    "collapsed": true
   },
   "outputs": [],
   "source": []
  }
 ],
 "metadata": {
  "kernelspec": {
   "display_name": "Python [Root]",
   "language": "python",
   "name": "Python [Root]"
  },
  "language_info": {
   "codemirror_mode": {
    "name": "ipython",
    "version": 2
   },
   "file_extension": ".py",
   "mimetype": "text/x-python",
   "name": "python",
   "nbconvert_exporter": "python",
   "pygments_lexer": "ipython2",
   "version": "2.7.12"
  }
 },
 "nbformat": 4,
 "nbformat_minor": 0
}
