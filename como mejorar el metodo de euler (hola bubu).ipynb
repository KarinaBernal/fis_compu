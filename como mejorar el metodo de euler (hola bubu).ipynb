{
 "cells": [
  {
   "cell_type": "markdown",
   "metadata": {},
   "source": [
    "# Segundo metodo de Euler (mejorado 5000) \n",
    "\n",
    "$$\n",
    "y_{n+1} = y_n + hf(x_n,y_n) + \\frac{h^2}{2} \\left(\\frac{\\partial f}{\\partial x} + \\frac{\\partial f}{\\partial y} f \\right)\n",
    "$$\n"
   ]
  },
  {
   "cell_type": "code",
   "execution_count": 1,
   "metadata": {
    "collapsed": true
   },
   "outputs": [],
   "source": [
    "def segundo_orden1(ec_diff,p_ini,tiempo,ec_jac,h=0.1):\n",
    "    y = zeros(len(tiempo))\n",
    "    y[0] = p_ini\n",
    "    for i in range(len(tiempo)-1):\n",
    "        y[i+1] = y[i] + h*ec_diff(y[i],tiempo[i])\n",
    "        y[i+1] += 0.5*h*h*ec_jac(y[i],tiempo[i])[0]\n",
    "        y[i+1] += 0.5*h*h*ec_jac(y[i],tiempo[i])[1]*ec_diff(y[i],tiempo[i])\n",
    "    return y"
   ]
  },
  {
   "cell_type": "code",
   "execution_count": null,
   "metadata": {
    "collapsed": true
   },
   "outputs": [],
   "source": []
  }
 ],
 "metadata": {
  "kernelspec": {
   "display_name": "Python [Root]",
   "language": "python",
   "name": "Python [Root]"
  },
  "language_info": {
   "codemirror_mode": {
    "name": "ipython",
    "version": 2
   },
   "file_extension": ".py",
   "mimetype": "text/x-python",
   "name": "python",
   "nbconvert_exporter": "python",
   "pygments_lexer": "ipython2",
   "version": "2.7.12"
  }
 },
 "nbformat": 4,
 "nbformat_minor": 0
}
