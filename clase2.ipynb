{
 "cells": [
  {
   "cell_type": "markdown",
   "metadata": {},
   "source": [
    "# Resolucion de ecuaciones diferenciales"
   ]
  },
  {
   "cell_type": "raw",
   "metadata": {},
   "source": [
    "Metodo de Euler"
   ]
  },
  {
   "cell_type": "markdown",
   "metadata": {},
   "source": [
    "Sea $f$ una funcion. Ademas $f'(x)=g(x, f(x))$\n",
    "\n"
   ]
  },
  {
   "cell_type": "markdown",
   "metadata": {},
   "source": [
    "Supongamos que conocemos $f(x_0)= f_0$\n"
   ]
  },
  {
   "cell_type": "markdown",
   "metadata": {},
   "source": [
    "Usando la def de derivada: $f(x+h)=f(x)+f'(x)h$. \n"
   ]
  },
  {
   "cell_type": "markdown",
   "metadata": {},
   "source": [
    "Tiene sentido escribir $f_1 = f_0 + f'_0h = f_0+g(x_0,f_0)h$"
   ]
  },
  {
   "cell_type": "markdown",
   "metadata": {},
   "source": [
    "Entonces tenemos la reglita: $f(x_{i+1})=f(x_i)+g(f_i,x_i)h$"
   ]
  },
  {
   "cell_type": "markdown",
   "metadata": {},
   "source": [
    "Ahora veamos en codigo:"
   ]
  },
  {
   "cell_type": "code",
   "execution_count": 4,
   "metadata": {
    "collapsed": true
   },
   "outputs": [],
   "source": [
    "from numpy import *\n",
    "from pylab import *\n",
    "%matplotlib inline"
   ]
  },
  {
   "cell_type": "code",
   "execution_count": 5,
   "metadata": {
    "collapsed": false
   },
   "outputs": [
    {
     "name": "stdout",
     "output_type": "stream",
     "text": [
      "[ 0.  0.  0.  0.  0.  0.  0.]\n"
     ]
    }
   ],
   "source": [
    "x = zeros(7)\n",
    "print x"
   ]
  },
  {
   "cell_type": "code",
   "execution_count": 6,
   "metadata": {
    "collapsed": true
   },
   "outputs": [],
   "source": [
    "\n",
    "def euler(funcion,p_ini,t_final,h=0.01):\n",
    "    #Los argumentos son: la funcion, valor inicial de f, el punto final de iteracion y longitud del pasito\n",
    "    tiempos = arange(p_ini[0],t_final+h,h)\n",
    "    y = zeros(len(tiempos))\n",
    "    y[0]= p_ini[1]\n",
    "    for i in range(len(tiempos)-1):\n",
    "        y[i+1] = y[i] + funcion(y[i],tiempos[i])*h\n",
    "    solucion = [tiempos,y]    \n",
    "    \n",
    "    return solucion\n",
    "    "
   ]
  },
  {
   "cell_type": "markdown",
   "metadata": {},
   "source": [
    "La ecuacion que queremos resolver $f'(x)=f(x)$"
   ]
  },
  {
   "cell_type": "code",
   "execution_count": 7,
   "metadata": {
    "collapsed": true
   },
   "outputs": [],
   "source": [
    "#HAy que programar la ecuacion diferencial\n",
    "#df/dy=mi_ec_dif(y,f)\n",
    "def mi_ec_dif(y,f):\n",
    "    return y"
   ]
  },
  {
   "cell_type": "code",
   "execution_count": 8,
   "metadata": {
    "collapsed": false
   },
   "outputs": [
    {
     "data": {
      "image/png": "[encoded data removed]",
      "text/plain": [
       "<matplotlib.figure.Figure at 0x7f5f9a340f90>"
      ]
     },
     "metadata": {},
     "output_type": "display_data"
    }
   ],
   "source": [
    "sol = euler(mi_ec_dif,[0,1],3)\n",
    "plot(sol[0],sol[1],sol[0],exp(sol[0]))\n",
    "show()"
   ]
  },
  {
   "cell_type": "code",
   "execution_count": 9,
   "metadata": {
    "collapsed": false
   },
   "outputs": [
    {
     "data": {
      "text/plain": [
       "[array([ 0.  ,  0.01,  0.02,  0.03,  0.04,  0.05,  0.06,  0.07,  0.08,\n",
       "         0.09,  0.1 ,  0.11,  0.12,  0.13,  0.14,  0.15,  0.16,  0.17,\n",
       "         0.18,  0.19,  0.2 ,  0.21,  0.22,  0.23,  0.24,  0.25,  0.26,\n",
       "         0.27,  0.28,  0.29,  0.3 ,  0.31,  0.32,  0.33,  0.34,  0.35,\n",
       "         0.36,  0.37,  0.38,  0.39,  0.4 ,  0.41,  0.42,  0.43,  0.44,\n",
       "         0.45,  0.46,  0.47,  0.48,  0.49,  0.5 ,  0.51,  0.52,  0.53,\n",
       "         0.54,  0.55,  0.56,  0.57,  0.58,  0.59,  0.6 ,  0.61,  0.62,\n",
       "         0.63,  0.64,  0.65,  0.66,  0.67,  0.68,  0.69,  0.7 ,  0.71,\n",
       "         0.72,  0.73,  0.74,  0.75,  0.76,  0.77,  0.78,  0.79,  0.8 ,\n",
       "         0.81,  0.82,  0.83,  0.84,  0.85,  0.86,  0.87,  0.88,  0.89,\n",
       "         0.9 ,  0.91,  0.92,  0.93,  0.94,  0.95,  0.96,  0.97,  0.98,\n",
       "         0.99,  1.  ,  1.01,  1.02,  1.03,  1.04,  1.05,  1.06,  1.07,\n",
       "         1.08,  1.09,  1.1 ,  1.11,  1.12,  1.13,  1.14,  1.15,  1.16,\n",
       "         1.17,  1.18,  1.19,  1.2 ,  1.21,  1.22,  1.23,  1.24,  1.25,\n",
       "         1.26,  1.27,  1.28,  1.29,  1.3 ,  1.31,  1.32,  1.33,  1.34,\n",
       "         1.35,  1.36,  1.37,  1.38,  1.39,  1.4 ,  1.41,  1.42,  1.43,\n",
       "         1.44,  1.45,  1.46,  1.47,  1.48,  1.49,  1.5 ,  1.51,  1.52,\n",
       "         1.53,  1.54,  1.55,  1.56,  1.57,  1.58,  1.59,  1.6 ,  1.61,\n",
       "         1.62,  1.63,  1.64,  1.65,  1.66,  1.67,  1.68,  1.69,  1.7 ,\n",
       "         1.71,  1.72,  1.73,  1.74,  1.75,  1.76,  1.77,  1.78,  1.79,\n",
       "         1.8 ,  1.81,  1.82,  1.83,  1.84,  1.85,  1.86,  1.87,  1.88,\n",
       "         1.89,  1.9 ,  1.91,  1.92,  1.93,  1.94,  1.95,  1.96,  1.97,\n",
       "         1.98,  1.99,  2.  ,  2.01,  2.02,  2.03,  2.04,  2.05,  2.06,\n",
       "         2.07,  2.08,  2.09,  2.1 ,  2.11,  2.12,  2.13,  2.14,  2.15,\n",
       "         2.16,  2.17,  2.18,  2.19,  2.2 ,  2.21,  2.22,  2.23,  2.24,\n",
       "         2.25,  2.26,  2.27,  2.28,  2.29,  2.3 ,  2.31,  2.32,  2.33,\n",
       "         2.34,  2.35,  2.36,  2.37,  2.38,  2.39,  2.4 ,  2.41,  2.42,\n",
       "         2.43,  2.44,  2.45,  2.46,  2.47,  2.48,  2.49,  2.5 ,  2.51,\n",
       "         2.52,  2.53,  2.54,  2.55,  2.56,  2.57,  2.58,  2.59,  2.6 ,\n",
       "         2.61,  2.62,  2.63,  2.64,  2.65,  2.66,  2.67,  2.68,  2.69,\n",
       "         2.7 ,  2.71,  2.72,  2.73,  2.74,  2.75,  2.76,  2.77,  2.78,\n",
       "         2.79,  2.8 ,  2.81,  2.82,  2.83,  2.84,  2.85,  2.86,  2.87,\n",
       "         2.88,  2.89,  2.9 ,  2.91,  2.92,  2.93,  2.94,  2.95,  2.96,\n",
       "         2.97,  2.98,  2.99,  3.  ]),\n",
       " array([  1.        ,   1.01      ,   1.0201    ,   1.030301  ,\n",
       "          1.04060401,   1.05101005,   1.06152015,   1.07213535,\n",
       "          1.08285671,   1.09368527,   1.10462213,   1.11566835,\n",
       "          1.12682503,   1.13809328,   1.14947421,   1.16096896,\n",
       "          1.17257864,   1.18430443,   1.19614748,   1.20810895,\n",
       "          1.22019004,   1.23239194,   1.24471586,   1.25716302,\n",
       "          1.26973465,   1.282432  ,   1.29525631,   1.30820888,\n",
       "          1.32129097,   1.33450388,   1.34784892,   1.3613274 ,\n",
       "          1.37494068,   1.38869009,   1.40257699,   1.41660276,\n",
       "          1.43076878,   1.44507647,   1.45952724,   1.47412251,\n",
       "          1.48886373,   1.50375237,   1.51878989,   1.53397779,\n",
       "          1.54931757,   1.56481075,   1.58045885,   1.59626344,\n",
       "          1.61222608,   1.62834834,   1.64463182,   1.66107814,\n",
       "          1.67768892,   1.69446581,   1.71141047,   1.72852457,\n",
       "          1.74580982,   1.76326792,   1.7809006 ,   1.7987096 ,\n",
       "          1.8166967 ,   1.83486367,   1.8532123 ,   1.87174443,\n",
       "          1.89046187,   1.90936649,   1.92846015,   1.94774475,\n",
       "          1.9672222 ,   1.98689442,   2.00676337,   2.026831  ,\n",
       "          2.04709931,   2.06757031,   2.08824601,   2.10912847,\n",
       "          2.13021975,   2.15152195,   2.17303717,   2.19476754,\n",
       "          2.21671522,   2.23888237,   2.26127119,   2.2838839 ,\n",
       "          2.30672274,   2.32978997,   2.35308787,   2.37661875,\n",
       "          2.40038494,   2.42438879,   2.44863267,   2.473119  ,\n",
       "          2.49785019,   2.52282869,   2.54805698,   2.57353755,\n",
       "          2.59927293,   2.62526565,   2.65151831,   2.67803349,\n",
       "          2.70481383,   2.73186197,   2.75918059,   2.78677239,\n",
       "          2.81464012,   2.84278652,   2.87121438,   2.89992653,\n",
       "          2.92892579,   2.95821505,   2.9877972 ,   3.01767517,\n",
       "          3.04785192,   3.07833044,   3.10911375,   3.14020489,\n",
       "          3.17160693,   3.203323  ,   3.23535623,   3.2677098 ,\n",
       "          3.30038689,   3.33339076,   3.36672467,   3.40039192,\n",
       "          3.43439584,   3.4687398 ,   3.50342719,   3.53846147,\n",
       "          3.57384608,   3.60958454,   3.64568039,   3.68213719,\n",
       "          3.71895856,   3.75614815,   3.79370963,   3.83164673,\n",
       "          3.86996319,   3.90866282,   3.94774945,   3.98722695,\n",
       "          4.02709922,   4.06737021,   4.10804391,   4.14912435,\n",
       "          4.19061559,   4.23252175,   4.27484697,   4.31759544,\n",
       "          4.36077139,   4.4043791 ,   4.4484229 ,   4.49290712,\n",
       "          4.5378362 ,   4.58321456,   4.6290467 ,   4.67533717,\n",
       "          4.72209054,   4.76931145,   4.81700456,   4.86517461,\n",
       "          4.91382635,   4.96296462,   5.01259426,   5.06272021,\n",
       "          5.11334741,   5.16448088,   5.21612569,   5.26828695,\n",
       "          5.32096982,   5.37417952,   5.42792131,   5.48220052,\n",
       "          5.53702253,   5.59239275,   5.64831668,   5.70479985,\n",
       "          5.76184785,   5.81946633,   5.87766099,   5.9364376 ,\n",
       "          5.99580198,   6.05576   ,   6.1163176 ,   6.17748077,\n",
       "          6.23925558,   6.30164813,   6.36466462,   6.42831126,\n",
       "          6.49259437,   6.55752032,   6.62309552,   6.68932648,\n",
       "          6.75621974,   6.82378194,   6.89201976,   6.96093996,\n",
       "          7.03054936,   7.10085485,   7.1718634 ,   7.24358203,\n",
       "          7.31601785,   7.38917803,   7.46306981,   7.53770051,\n",
       "          7.61307751,   7.68920829,   7.76610037,   7.84376138,\n",
       "          7.92219899,   8.00142098,   8.08143519,   8.16224954,\n",
       "          8.24387204,   8.32631076,   8.40957386,   8.4936696 ,\n",
       "          8.5786063 ,   8.66439236,   8.75103629,   8.83854665,\n",
       "          8.92693211,   9.01620144,   9.10636345,   9.19742708,\n",
       "          9.28940136,   9.38229537,   9.47611832,   9.57087951,\n",
       "          9.6665883 ,   9.76325418,   9.86088673,   9.95949559,\n",
       "         10.05909055,  10.15968145,  10.26127827,  10.36389105,\n",
       "         10.46752996,  10.57220526,  10.67792731,  10.78470659,\n",
       "         10.89255365,  11.00147919,  11.11149398,  11.22260892,\n",
       "         11.33483501,  11.44818336,  11.5626652 ,  11.67829185,\n",
       "         11.79507477,  11.91302551,  12.03215577,  12.15247733,\n",
       "         12.2740021 ,  12.39674212,  12.52070954,  12.64591664,\n",
       "         12.7723758 ,  12.90009956,  13.02910056,  13.15939156,\n",
       "         13.29098548,  13.42389533,  13.55813429,  13.69371563,\n",
       "         13.83065279,  13.96895931,  14.10864891,  14.2497354 ,\n",
       "         14.39223275,  14.53615508,  14.68151663,  14.82833179,\n",
       "         14.97661511,  15.12638126,  15.27764508,  15.43042153,\n",
       "         15.58472574,  15.740573  ,  15.89797873,  16.05695852,\n",
       "         16.2175281 ,  16.37970338,  16.54350042,  16.70893542,\n",
       "         16.87602477,  17.04478502,  17.21523287,  17.3873852 ,\n",
       "         17.56125905,  17.73687164,  17.91424036,  18.09338276,\n",
       "         18.27431659,  18.45705976,  18.64163036,  18.82804666,\n",
       "         19.01632713,  19.2064904 ,  19.3985553 ,  19.59254085,  19.78846626])]"
      ]
     },
     "execution_count": 9,
     "metadata": {},
     "output_type": "execute_result"
    }
   ],
   "source": [
    "euler(mi_ec_dif,[0,1],3)"
   ]
  },
  {
   "cell_type": "markdown",
   "metadata": {},
   "source": [
    "La ecuacion a resolver $f'(x)=-f(x)*x$"
   ]
  },
  {
   "cell_type": "code",
   "execution_count": 10,
   "metadata": {
    "collapsed": true
   },
   "outputs": [],
   "source": [
    "def otra_fun(y,t):\n",
    "    return -y*t"
   ]
  },
  {
   "cell_type": "code",
   "execution_count": 11,
   "metadata": {
    "collapsed": false
   },
   "outputs": [
    {
     "data": {
      "image/png": "[encoded data removed]",
      "text/plain": [
       "<matplotlib.figure.Figure at 0x7f5f97e364d0>"
      ]
     },
     "metadata": {},
     "output_type": "display_data"
    }
   ],
   "source": [
    "sol = euler(otra_fun,[0,1],3,0.1)\n",
    "plot(sol[0],sol[1],sol[0],exp(-.5*sol[0]**2))\n",
    "show()"
   ]
  },
  {
   "cell_type": "code",
   "execution_count": 14,
   "metadata": {
    "collapsed": true
   },
   "outputs": [],
   "source": [
    "def fun(y,t):\n",
    "    return (1./(sin(t)+2))*(((2.*y)/sqrt(3))**2-1)"
   ]
  },
  {
   "cell_type": "code",
   "execution_count": 19,
   "metadata": {
    "collapsed": false
   },
   "outputs": [
    {
     "data": {
      "image/png": "[encoded data removed]",
      "text/plain": [
       "<matplotlib.figure.Figure at 0x7f5f97485ad0>"
      ]
     },
     "metadata": {},
     "output_type": "display_data"
    }
   ],
   "source": [
    "hs=[0.5,0.1,0.01,0.001,1e-3]\n",
    "for h in hs:\n",
    "    sol = euler(fun,[1,1],3,h)\n",
    "    plot(sol[0],sol[1])   \n",
    "show()"
   ]
  },
  {
   "cell_type": "code",
   "execution_count": 20,
   "metadata": {
    "collapsed": false
   },
   "outputs": [
    {
     "name": "stdout",
     "output_type": "stream",
     "text": [
      "[2, 3] [2, 3, 2, 3]\n"
     ]
    }
   ],
   "source": [
    "a=[2,3]\n",
    "print a, a*2"
   ]
  },
  {
   "cell_type": "code",
   "execution_count": 23,
   "metadata": {
    "collapsed": false
   },
   "outputs": [
    {
     "name": "stdout",
     "output_type": "stream",
     "text": [
      "[array([[2, 3],\n",
      "       [4, 4]])] [array([[2, 3],\n",
      "       [4, 4]]), array([[2, 3],\n",
      "       [4, 4]])]\n"
     ]
    }
   ],
   "source": [
    "b=[array([[2,3],[4,4]])]\n",
    "print b, b*2"
   ]
  },
  {
   "cell_type": "code",
   "execution_count": 26,
   "metadata": {
    "collapsed": true
   },
   "outputs": [],
   "source": [
    "#quisiera que cada punto se comporte como vector y en total como lista\n",
    "#Esto puede servir para subier el orden o para tener dos variables de la ec diferencial\n",
    "\n",
    "def euler(funcion,p_ini,t_final,h=0.01):\n",
    "    #Los argumentos son: la funcion, valor inicial de f, el punto final de iteracion y longitud del pasito\n",
    "    tiempos = arange(p_ini[0],t_final+h,h)\n",
    "    y = [0]*len(tiempos) #zeros(len(tiempos))\n",
    "    y[0]= p_ini[1]\n",
    "    for i in range(len(tiempos)-1):\n",
    "        y[i+1] = y[i] + funcion(y[i],tiempos[i])*h\n",
    "    solucion = [tiempos,y]    \n",
    "    \n",
    "    return solucion"
   ]
  },
  {
   "cell_type": "markdown",
   "metadata": {},
   "source": [
    "Tenemos la ec: $y''+y=0$. Con condiciones iniciales: $y'(0)=1$"
   ]
  },
  {
   "cell_type": "markdown",
   "metadata": {},
   "source": [
    "Si hacemos $y'=v$ entonces $y''=v'$. Y tenemos el sistema de ecuaciones:\n",
    "$$y'=v$$\n",
    "$$v'=-y$$"
   ]
  },
  {
   "cell_type": "code",
   "execution_count": 27,
   "metadata": {
    "collapsed": true
   },
   "outputs": [],
   "source": [
    "def segundo_orden(y,t):\n",
    "    return array([y[1],-y[0]])"
   ]
  },
  {
   "cell_type": "code",
   "execution_count": 28,
   "metadata": {
    "collapsed": false
   },
   "outputs": [
    {
     "name": "stdout",
     "output_type": "stream",
     "text": [
      "[array([0, 1]), array([ 0.01,  1.  ]), array([ 0.02  ,  0.9999]), array([ 0.029999,  0.9997  ]), array([ 0.039996  ,  0.99940001]), array([ 0.04999   ,  0.99900005]), array([ 0.05998   ,  0.99850015]), array([ 0.069965  ,  0.99790035]), array([ 0.07994401,  0.9972007 ]), array([ 0.08991601,  0.99640126]), array([ 0.09988003,  0.9955021 ]), array([ 0.10983505,  0.9945033 ]), array([ 0.11978008,  0.99340495]), array([ 0.12971413,  0.99220715]), array([ 0.1396362 ,  0.99091001]), array([ 0.1495453 ,  0.98951364]), array([ 0.15944044,  0.98801819]), array([ 0.16932062,  0.98642379]), array([ 0.17918486,  0.98473058]), array([ 0.18903216,  0.98293873]), array([ 0.19886155,  0.98104841]), array([ 0.20867203,  0.9790598 ]), array([ 0.21846263,  0.97697308]), array([ 0.22823236,  0.97478845]), array([ 0.23798025,  0.97250613]), array([ 0.24770531,  0.97012632]), array([ 0.25740657,  0.96764927]), array([ 0.26708306,  0.9650752 ]), array([ 0.27673382,  0.96240437]), array([ 0.28635786,  0.95963704]), array([ 0.29595423,  0.95677346]), array([ 0.30552196,  0.95381391]), array([ 0.3150601 ,  0.95075869]), array([ 0.32456769,  0.94760809]), array([ 0.33404377,  0.94436242]), array([ 0.3434874 ,  0.94102198]), array([ 0.35289762,  0.93758711]), array([ 0.36227349,  0.93405813]), array([ 0.37161407,  0.93043539]), array([ 0.38091842,  0.92671925]), array([ 0.39018561,  0.92291007]), array([ 0.39941472,  0.91900821]), array([ 0.4086048 ,  0.91501407]), array([ 0.41775494,  0.91092802]), array([ 0.42686422,  0.90675047]), array([ 0.43593172,  0.90248183]), array([ 0.44495654,  0.89812251]), array([ 0.45393777,  0.89367294]), array([ 0.4628745 ,  0.88913357]), array([ 0.47176583,  0.88450482]), array([ 0.48061088,  0.87978716]), array([ 0.48940875,  0.87498105]), array([ 0.49815856,  0.87008697]), array([ 0.50685943,  0.86510538]), array([ 0.51551049,  0.86003679]), array([ 0.52411085,  0.85488168]), array([ 0.53265967,  0.84964057]), array([ 0.54115608,  0.84431398]), array([ 0.54959922,  0.83890242]), array([ 0.55798824,  0.83340642]), array([ 0.5663223 ,  0.82782654]), array([ 0.57460057,  0.82216332]), array([ 0.5828222 ,  0.81641731]), array([ 0.59098638,  0.81058909]), array([ 0.59909227,  0.80467923]), array([ 0.60713906,  0.7986883 ]), array([ 0.61512594,  0.79261691]), array([ 0.62305211,  0.78646565]), array([ 0.63091677,  0.78023513]), array([ 0.63871912,  0.77392597]), array([ 0.64645838,  0.76753877]), array([ 0.65413377,  0.76107419]), array([ 0.66174451,  0.75453285]), array([ 0.66928984,  0.74791541]), array([ 0.67676899,  0.74122251]), array([ 0.68418122,  0.73445482]), array([ 0.69152576,  0.72761301]), array([ 0.69880189,  0.72069775]), array([ 0.70600887,  0.71370973]), array([ 0.71314597,  0.70664964]), array([ 0.72021247,  0.69951818]), array([ 0.72720765,  0.69231606]), array([ 0.73413081,  0.68504398]), array([ 0.74098125,  0.67770267]), array([ 0.74775827,  0.67029286]), array([ 0.7544612 ,  0.66281528]), array([ 0.76108936,  0.65527067]), array([ 0.76764206,  0.64765977]), array([ 0.77411866,  0.63998335]), array([ 0.78051849,  0.63224216]), array([ 0.78684092,  0.62443698]), array([ 0.79308528,  0.61656857]), array([ 0.79925097,  0.60863772]), array([ 0.80533735,  0.60064521]), array([ 0.8113438 ,  0.59259183]), array([ 0.81726972,  0.5844784 ]), array([ 0.8231145,  0.5763057]), array([ 0.82887756,  0.56807455]), array([ 0.8345583 ,  0.55978578]), array([ 0.84015616,  0.5514402 ]), array([ 0.84567056,  0.54303863]), array([ 0.85110095,  0.53458193]), array([ 0.85644677,  0.52607092]), array([ 0.86170748,  0.51750645]), array([ 0.86688254,  0.50888938]), array([ 0.87197144,  0.50022055]), array([ 0.87697364,  0.49150084]), array([ 0.88188865,  0.4827311 ]), array([ 0.88671596,  0.47391221]), array([ 0.89145508,  0.46504505]), array([ 0.89610554,  0.4561305 ]), array([ 0.90066684,  0.44716945]), array([ 0.90513853,  0.43816278]), array([ 0.90952016,  0.42911139]), array([ 0.91381128,  0.42001619]), array([ 0.91801144,  0.41087808]), array([ 0.92212022,  0.40169797]), array([ 0.9261372 ,  0.39247676]), array([ 0.93006197,  0.38321539]), array([ 0.93389412,  0.37391477]), array([ 0.93763327,  0.36457583]), array([ 0.94127903,  0.3551995 ]), array([ 0.94483102,  0.34578671]), array([ 0.94828889,  0.3363384 ]), array([ 0.95165227,  0.32685551]), array([ 0.95492083,  0.31733899]), array([ 0.95809422,  0.30778978]), array([ 0.96117212,  0.29820884]), array([ 0.9641542 ,  0.28859711]), array([ 0.96704017,  0.27895557]), array([ 0.96982973,  0.26928517]), array([ 0.97252258,  0.25958687]), array([ 0.97511845,  0.24986165]), array([ 0.97761707,  0.24011046]), array([ 0.98001817,  0.23033429]), array([ 0.98232151,  0.22053411]), array([ 0.98452686,  0.2107109 ]), array([ 0.98663396,  0.20086563]), array([ 0.98864262,  0.19099929]), array([ 0.99055261,  0.18111286]), array([ 0.99236374,  0.17120733]), array([ 0.99407582,  0.1612837 ]), array([ 0.99568865,  0.15134294]), array([ 0.99720208,  0.14138605]), array([ 0.99861594,  0.13141403]), array([ 0.99993008,  0.12142787]), array([ 1.00114436,  0.11142857]), array([ 1.00225865,  0.10141713]), array([ 1.00327282,  0.09139454]), array([ 1.00418676,  0.08136181]), array([ 1.00500038,  0.07131995]), array([ 1.00571358,  0.06126994]), array([ 1.00632628,  0.05121281]), array([ 1.00683841,  0.04114954]), array([ 1.0072499 ,  0.03108116]), array([ 1.00756072,  0.02100866]), array([ 1.0077708 ,  0.01093305]), array([  1.00788013e+00,   8.55344724e-04]), array([ 1.00788869, -0.00922346]), array([ 1.00779645, -0.01930234]), array([ 1.00760343, -0.02938031]), array([ 1.00730963, -0.03945634]), array([ 1.00691506, -0.04952944]), array([ 1.00641977, -0.05959859]), array([ 1.00582378, -0.06966279]), array([ 1.00512715, -0.07972102]), array([ 1.00432994, -0.0897723 ]), array([ 1.00343222, -0.0998156 ]), array([ 1.00243407, -0.10984992]), array([ 1.00133557, -0.11987426]), array([ 1.00013682, -0.12988761]), array([ 0.99883795, -0.13988898]), array([ 0.99743906, -0.14987736]), array([ 0.99594028, -0.15985175]), array([ 0.99434177, -0.16981116]), array([ 0.99264365, -0.17975457]), array([ 0.99084611, -0.18968101]), array([ 0.9889493 , -0.19958947]), array([ 0.9869534 , -0.20947896]), array([ 0.98485861, -0.2193485 ]), array([ 0.98266513, -0.22919708]), array([ 0.98037316, -0.23902374]), array([ 0.97798292, -0.24882747]), array([ 0.97549465, -0.2586073 ]), array([ 0.97290857, -0.26836224]), array([ 0.97022495, -0.27809133]), array([ 0.96744404, -0.28779358]), array([ 0.9645661 , -0.29746802]), array([ 0.96159142, -0.30711368]), array([ 0.95852029, -0.31672959]), array([ 0.95535299, -0.3263148 ]), array([ 0.95208984, -0.33586833]), array([ 0.94873116, -0.34538922]), array([ 0.94527727, -0.35487654]), array([ 0.9417285 , -0.36432931]), array([ 0.93808521, -0.37374659]), array([ 0.93434774, -0.38312745]), array([ 0.93051647, -0.39247092]), array([ 0.92659176, -0.40177609]), array([ 0.922574  , -0.41104201]), array([ 0.91846358, -0.42026775])]\n"
     ]
    }
   ],
   "source": [
    "sol = euler(segundo_orden,[1,array([0,1])],3)\n",
    "print sol[1]\n",
    "#plot(sol[0],sol[1],sol[0],exp(-.5*sol[0]**2))\n",
    "#show()"
   ]
  },
  {
   "cell_type": "code",
   "execution_count": null,
   "metadata": {
    "collapsed": true
   },
   "outputs": [],
   "source": []
  }
 ],
 "metadata": {
  "kernelspec": {
   "display_name": "Python [Root]",
   "language": "python",
   "name": "Python [Root]"
  },
  "language_info": {
   "codemirror_mode": {
    "name": "ipython",
    "version": 2
   },
   "file_extension": ".py",
   "mimetype": "text/x-python",
   "name": "python",
   "nbconvert_exporter": "python",
   "pygments_lexer": "ipython2",
   "version": "2.7.12"
  }
 },
 "nbformat": 4,
 "nbformat_minor": 0
}
