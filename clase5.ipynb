{
 "cells": [
  {
   "cell_type": "markdown",
   "metadata": {},
   "source": [
    "# Clase 5. Integrales"
   ]
  },
  {
   "cell_type": "markdown",
   "metadata": {},
   "source": [
    "Para obtener un mejor resultado en la integracion es mejor utilizar la aproximacion de segundo orden y con varias variables. Como vimos en clase:\n",
    "$$\n",
    "\\vec{y}_{n+1} = \\vec{y}_n + h \\vec{f}(x_n,y_n) + \\frac{1}{2} h^2 \\left( \\frac{\\partial \\vec{f}}{\\partial x} + \\mathbb{J}(\\vec{f}(x_n,y_n)) \\cdot \\vec{f}(x_n,y_n) \\right) \n",
    "$$\n",
    "El segundo termino es la aprox de Euler. El jacobiano evaluado en $x_n, y_n$ y el orden del error es $\\mathcal{O}(h^2)$"
   ]
  },
  {
   "cell_type": "markdown",
   "metadata": {},
   "source": [
    "Buscar: Integrales de Picard\n",
    "\n",
    "Por otro lado, usando taylor tenemos:\n",
    "$$f(x_0+h)=f(x_0)+ f'(x_0)h+ \\frac{f''(x_0)h^2}{2!}+ \\frac{f'''(x_0)h^3}{3!} \\dots(1)$$ \n",
    "$$f(x_0-h)=f(x_0)- f'(x_0)h+ \\frac{f''(x_0)h^2}{2!}- \\frac{f'''(x_0)h^3}{3!} \\dots(2)$$\n",
    "\n",
    "(1) + (2)=\n",
    "\n",
    "(1) - (2)=\n",
    "\n",
    "Entonces:\n",
    "$$\n",
    "f(x)=\\frac{f(x_0+h)+f(x_0-h)}{2} + \\frac{f(x_0+h)+f(x_0-h)}{2h} + O(h^2)\n",
    "$$\n",
    "Siempre y cuando $x \\in (x_0-h, x_0+h)$\n",
    "\n",
    "Por lo que:\n",
    "$$\n",
    "\\int\\limits_{-h}^{h}f(x)= (f(x_0+h)+f(x_0-h))h + O(h)\n",
    "$$"
   ]
  },
  {
   "cell_type": "markdown",
   "metadata": {},
   "source": [
    "Muchas cosas que luego tendre que saber como se hacen...\n",
    "Solo sobreviven los terminos constante y la segunda derivada\n",
    "\n",
    "$$ \\int\\limits_{-h}^{h}f(x)dx= \\frac{h}{9}\\left( -2f_{i+2} + 11f_{i+1} + 11f_{i-1}-2f_{1-2} + \\mathcal{O}(h^3) \\right) $$"
   ]
  },
  {
   "cell_type": "code",
   "execution_count": 1,
   "metadata": {
    "collapsed": true
   },
   "outputs": [],
   "source": [
    "from pylab import *\n",
    "%matplotlib inline"
   ]
  },
  {
   "cell_type": "code",
   "execution_count": 2,
   "metadata": {
    "collapsed": false
   },
   "outputs": [
    {
     "ename": "IndentationError",
     "evalue": "expected an indented block (<ipython-input-2-b1810e71dbd9>, line 4)",
     "output_type": "error",
     "traceback": [
      "\u001b[1;36m  File \u001b[1;32m\"<ipython-input-2-b1810e71dbd9>\"\u001b[1;36m, line \u001b[1;32m4\u001b[0m\n\u001b[1;33m    \u001b[0m\n\u001b[1;37m    ^\u001b[0m\n\u001b[1;31mIndentationError\u001b[0m\u001b[1;31m:\u001b[0m expected an indented block\n"
     ]
    }
   ],
   "source": [
    "#Vamos a resolver el oscilador armonico:\n",
    "\n",
    "def integra2(ecuacion,jacobiano,p_ini,x,h=0.1):\n",
    "    jn1=yn + (h*f) + (0.5*h*h*(jac[0] + dot(jac[1],f)))\n",
    "    "
   ]
  },
  {
   "cell_type": "code",
   "execution_count": 4,
   "metadata": {
    "collapsed": false
   },
   "outputs": [
    {
     "name": "stdout",
     "output_type": "stream",
     "text": [
      "[2 6] [2, 6]\n",
      "[ 4 12] [2, 6, 2, 6]\n"
     ]
    }
   ],
   "source": [
    "a=array([2,6])\n",
    "b=[2,6]\n",
    "print a,b\n",
    "print 2*a, 2*b"
   ]
  },
  {
   "cell_type": "code",
   "execution_count": 11,
   "metadata": {
    "collapsed": false
   },
   "outputs": [
    {
     "name": "stdout",
     "output_type": "stream",
     "text": [
      "[[1 0]\n",
      " [0 1]]\n",
      "[[1 0]\n",
      " [0 1]]\n",
      "[[2 0]\n",
      " [0 6]]\n",
      "[[2 6]]\n"
     ]
    }
   ],
   "source": [
    "A = array([[1,0],[0,1]])\n",
    "B = matrix([[1,0],[0,1]]) #Matrix no es una matriz => \"This is not a spoon\"\n",
    "print A\n",
    "print A2\n",
    "print A*a\n",
    "print dot(B,a)"
   ]
  },
  {
   "cell_type": "code",
   "execution_count": 16,
   "metadata": {
    "collapsed": false
   },
   "outputs": [
    {
     "name": "stdout",
     "output_type": "stream",
     "text": [
      "1 2 3 4\n",
      "[[ 6 14]\n",
      " [18 28]]\n",
      "[20 46]\n"
     ]
    }
   ],
   "source": [
    "A = array([[1,2],[3,4]])\n",
    "a = array([6,7])\n",
    "print A[0,0],A[0,1],A[1,0],A[1,1]\n",
    "print A*a\n",
    "print dot(A,a) #Los dos son arreglos. Esto es lo que hay que hacer"
   ]
  },
  {
   "cell_type": "code",
   "execution_count": null,
   "metadata": {
    "collapsed": true
   },
   "outputs": [],
   "source": []
  }
 ],
 "metadata": {
  "kernelspec": {
   "display_name": "Python [Root]",
   "language": "python",
   "name": "Python [Root]"
  },
  "language_info": {
   "codemirror_mode": {
    "name": "ipython",
    "version": 2
   },
   "file_extension": ".py",
   "mimetype": "text/x-python",
   "name": "python",
   "nbconvert_exporter": "python",
   "pygments_lexer": "ipython2",
   "version": "2.7.12"
  }
 },
 "nbformat": 4,
 "nbformat_minor": 0
}
